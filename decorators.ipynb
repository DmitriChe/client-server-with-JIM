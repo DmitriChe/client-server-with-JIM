{
 "cells": [
  {
   "cell_type": "markdown",
   "metadata": {},
   "source": [
    "# Замыкание"
   ]
  },
  {
   "cell_type": "markdown",
   "metadata": {},
   "source": [
    "Замыкание: функция видит переменные вне себя"
   ]
  },
  {
   "cell_type": "code",
   "execution_count": 2,
   "metadata": {},
   "outputs": [
    {
     "name": "stdout",
     "output_type": "stream",
     "text": [
      "Some text\n"
     ]
    }
   ],
   "source": [
    "variable = 'Some text'\n",
    "\n",
    "def sample():\n",
    "    print(variable)\n",
    "    \n",
    "sample()"
   ]
  },
  {
   "cell_type": "markdown",
   "metadata": {},
   "source": [
    "# Декорирование в разрезе"
   ]
  },
  {
   "cell_type": "markdown",
   "metadata": {},
   "source": [
    "Исходная функция, которую будем подвергать декорированию"
   ]
  },
  {
   "cell_type": "code",
   "execution_count": 3,
   "metadata": {},
   "outputs": [],
   "source": [
    "def sample(text, num):\n",
    "    return text * num"
   ]
  },
  {
   "cell_type": "markdown",
   "metadata": {},
   "source": [
    "Декоратор"
   ]
  },
  {
   "cell_type": "code",
   "execution_count": 4,
   "metadata": {},
   "outputs": [],
   "source": [
    "def logged(func):\n",
    "    def wrapper(text, num):\n",
    "        result = func(text, num)\n",
    "        print(f'log - {func.__name__}({text, num})={result}')\n",
    "        return result\n",
    "    return wrapper"
   ]
  },
  {
   "cell_type": "markdown",
   "metadata": {},
   "source": [
    "Декорирование функции sample. При этом получаем и исходную функцию и бонус - вывод на печать результата"
   ]
  },
  {
   "cell_type": "code",
   "execution_count": 13,
   "metadata": {},
   "outputs": [
    {
     "name": "stdout",
     "output_type": "stream",
     "text": [
      "log - sample(('text', 5))=texttexttexttexttext\n",
      "log - wrapper(('text', 5))=texttexttexttexttext\n"
     ]
    },
    {
     "data": {
      "text/plain": [
       "'texttexttexttexttext'"
      ]
     },
     "execution_count": 13,
     "metadata": {},
     "output_type": "execute_result"
    }
   ],
   "source": [
    "sample_clone = logged(sample)\n",
    "# print(sample_clone)\n",
    "sample_clone('text', 5)"
   ]
  },
  {
   "cell_type": "markdown",
   "metadata": {},
   "source": [
    "# Теперь с синтаксическим сахаром"
   ]
  },
  {
   "cell_type": "code",
   "execution_count": 17,
   "metadata": {},
   "outputs": [
    {
     "name": "stdout",
     "output_type": "stream",
     "text": [
      "log - sample(('test', 7))=testtesttesttesttesttesttest\n"
     ]
    },
    {
     "data": {
      "text/plain": [
       "'testtesttesttesttesttesttest'"
      ]
     },
     "execution_count": 17,
     "metadata": {},
     "output_type": "execute_result"
    }
   ],
   "source": [
    "@logged\n",
    "def sample(text, num):\n",
    "    return text * num\n",
    "\n",
    "sample('test', 7)"
   ]
  },
  {
   "cell_type": "markdown",
   "metadata": {},
   "source": [
    "Создаём ещё один декоратор. Для оформления вывода текста с помощью разделителя."
   ]
  },
  {
   "cell_type": "code",
   "execution_count": 18,
   "metadata": {},
   "outputs": [],
   "source": [
    "def delimited(func):\n",
    "    def wrapper(*args, **kwargs):\n",
    "        print('\\n', '*'*50, '\\n')  # резделитель\n",
    "        return func(*args, **kwargs)\n",
    "    return wrapper"
   ]
  },
  {
   "cell_type": "markdown",
   "metadata": {},
   "source": [
    "Оборачиваем декораторами функци - удобная отбивка результатов выполенния функции. Например при логгировании"
   ]
  },
  {
   "cell_type": "code",
   "execution_count": 20,
   "metadata": {
    "scrolled": true
   },
   "outputs": [
    {
     "name": "stdout",
     "output_type": "stream",
     "text": [
      "\n",
      " ************************************************** \n",
      "\n",
      "log - wrapper(('test', 7))=testtesttesttesttesttesttest\n",
      "\n",
      " ************************************************** \n",
      "\n",
      "log - wrapper(('test', 7))=testtesttesttesttesttesttest\n"
     ]
    },
    {
     "data": {
      "text/plain": [
       "'testtesttesttesttesttesttest'"
      ]
     },
     "execution_count": 20,
     "metadata": {},
     "output_type": "execute_result"
    }
   ],
   "source": [
    "@logged\n",
    "@delimited\n",
    "def sample(text, num):\n",
    "    return text * num\n",
    "\n",
    "sample('test', 7)\n",
    "sample('test', 7)"
   ]
  },
  {
   "cell_type": "markdown",
   "metadata": {},
   "source": [
    "Как это устроено в разрезе. Просто вложенные функции - оборачивание."
   ]
  },
  {
   "cell_type": "code",
   "execution_count": 21,
   "metadata": {},
   "outputs": [
    {
     "name": "stdout",
     "output_type": "stream",
     "text": [
      "\n",
      " ************************************************** \n",
      "\n",
      "log - wrapper(('test', 4))=testtesttesttest\n"
     ]
    },
    {
     "data": {
      "text/plain": [
       "'testtesttesttest'"
      ]
     },
     "execution_count": 21,
     "metadata": {},
     "output_type": "execute_result"
    }
   ],
   "source": [
    "def sample(text, num):\n",
    "    return text * num\n",
    "\n",
    "sample_clone = logged(\n",
    "    delimited(\n",
    "        sample\n",
    "    )\n",
    ")\n",
    "\n",
    "sample_clone('test', 4)"
   ]
  },
  {
   "cell_type": "markdown",
   "metadata": {},
   "source": [
    "# Декоратор с параметром"
   ]
  },
  {
   "cell_type": "code",
   "execution_count": 26,
   "metadata": {},
   "outputs": [],
   "source": [
    "def logged(log_format):\n",
    "    def decorator(func):\n",
    "        def wrapper(text, num):\n",
    "            result = func(text, num)\n",
    "            name = func.__name__\n",
    "            args = ','.join((text, str(num)))\n",
    "            print(log_format % {'name': name, 'args': args, 'result': result})\n",
    "            return result\n",
    "        return wrapper\n",
    "    return decorator"
   ]
  },
  {
   "cell_type": "code",
   "execution_count": 28,
   "metadata": {},
   "outputs": [
    {
     "name": "stdout",
     "output_type": "stream",
     "text": [
      "sample(test,3) = testtesttest\n"
     ]
    },
    {
     "data": {
      "text/plain": [
       "'testtesttest'"
      ]
     },
     "execution_count": 28,
     "metadata": {},
     "output_type": "execute_result"
    }
   ],
   "source": [
    "@logged('%(name)s(%(args)s) = %(result)s')\n",
    "def sample(text, num):\n",
    "    return text * num\n",
    "\n",
    "sample('test', 3)"
   ]
  }
 ],
 "metadata": {
  "kernelspec": {
   "display_name": "Python 3",
   "language": "python",
   "name": "python3"
  },
  "language_info": {
   "codemirror_mode": {
    "name": "ipython",
    "version": 3
   },
   "file_extension": ".py",
   "mimetype": "text/x-python",
   "name": "python",
   "nbconvert_exporter": "python",
   "pygments_lexer": "ipython3",
   "version": "3.7.0"
  }
 },
 "nbformat": 4,
 "nbformat_minor": 2
}
