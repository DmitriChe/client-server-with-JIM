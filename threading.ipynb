{
 "cells": [
  {
   "cell_type": "code",
   "execution_count": 30,
   "metadata": {},
   "outputs": [],
   "source": [
    "import time\n",
    "import threading\n",
    "import multiprocessing"
   ]
  },
  {
   "cell_type": "code",
   "execution_count": 17,
   "metadata": {},
   "outputs": [],
   "source": [
    "def sample(text, num):\n",
    "    for idx in range(1, num + 1):\n",
    "        time.sleep(1)\n",
    "        print(f'{text} was called {idx} times')"
   ]
  },
  {
   "cell_type": "code",
   "execution_count": 18,
   "metadata": {},
   "outputs": [],
   "source": [
    "THREADS_NUMDER = 5"
   ]
  },
  {
   "cell_type": "code",
   "execution_count": 10,
   "metadata": {},
   "outputs": [
    {
     "name": "stdout",
     "output_type": "stream",
     "text": [
      "cell-1 was called 1 times\n",
      "cell-1 was called 2 times\n",
      "cell-1 was called 3 times\n",
      "cell-1 was called 4 times\n",
      "cell-1 was called 5 times\n"
     ]
    }
   ],
   "source": [
    "sample('cell-1', 5)"
   ]
  },
  {
   "cell_type": "code",
   "execution_count": 19,
   "metadata": {},
   "outputs": [
    {
     "name": "stdout",
     "output_type": "stream",
     "text": [
      "thread was called 1 times\n",
      "cell-1 was called 1 times\n",
      "thread was called 2 timescell-1 was called 2 times\n",
      "\n",
      "thread was called 3 timescell-1 was called 3 times\n",
      "\n",
      "cell-1 was called 4 times\n",
      "thread was called 4 times\n",
      "cell-1 was called 5 timesthread was called 5 times\n",
      "\n",
      "thread was called 6 times\n",
      "thread was called 7 times\n",
      "thread was called 8 times\n",
      "thread was called 9 times\n",
      "thread was called 10 times\n"
     ]
    }
   ],
   "source": [
    "thread = threading.Thread(target=sample, args=('thread', 10))\n",
    "thread.start()\n",
    "\n",
    "sample('cell-1', 5)"
   ]
  },
  {
   "cell_type": "code",
   "execution_count": 22,
   "metadata": {},
   "outputs": [
    {
     "name": "stdout",
     "output_type": "stream",
     "text": [
      "thread-1 was called 1 times\n",
      "thread-2 was called 1 times\n",
      "thread-3 was called 1 timesthread-4 was called 1 times\n",
      "thread-5 was called 1 times\n",
      "\n",
      "thread-1 was called 2 times\n",
      "thread-2 was called 2 times\n",
      "thread-4 was called 2 times\n",
      "thread-3 was called 2 timesthread-5 was called 2 times\n",
      "\n",
      "thread-1 was called 3 times\n",
      "thread-2 was called 3 times\n",
      "thread-4 was called 3 times\n",
      "thread-5 was called 3 times\n",
      "thread-3 was called 3 times\n",
      "thread-2 was called 4 times\n",
      "thread-4 was called 4 times\n",
      "thread-5 was called 4 times\n",
      "thread-3 was called 4 times\n",
      "thread-4 was called 5 times\n",
      "thread-5 was called 5 times\n",
      "thread-3 was called 5 times\n",
      "thread-4 was called 6 times\n",
      "thread-5 was called 6 times\n",
      "thread-5 was called 7 times\n"
     ]
    }
   ],
   "source": [
    "for itm in range(THREADS_NUMDER):\n",
    "    num = 3 + itm\n",
    "    text = f'thread-{itm + 1}'\n",
    "    thread = threading.Thread(target=sample, args=(text, num))\n",
    "    thread.start()"
   ]
  },
  {
   "cell_type": "code",
   "execution_count": 25,
   "metadata": {},
   "outputs": [],
   "source": [
    "lock = threading.Lock()\n",
    "\n",
    "def sample(text, num):\n",
    "    for idx in range(1, num+1):\n",
    "        time.sleep(1)\n",
    "        lock.acquire()  # начать блокировку\n",
    "        print(f'{text} was called {idx} times') \n",
    "        lock.release()  # высвободить\n"
   ]
  },
  {
   "cell_type": "code",
   "execution_count": 27,
   "metadata": {},
   "outputs": [
    {
     "name": "stdout",
     "output_type": "stream",
     "text": [
      "thread was called 1 times\n",
      "cell-2 was called 1 times\n",
      "thread was called 2 times\n",
      "cell-2 was called 2 times\n",
      "thread was called 3 times\n",
      "cell-2 was called 3 times\n",
      "thread was called 4 times\n",
      "cell-2 was called 4 times\n",
      "thread was called 5 times\n",
      "cell-2 was called 5 times\n",
      "thread was called 6 times\n",
      "thread was called 7 times\n",
      "thread was called 8 times\n",
      "thread was called 9 times\n",
      "thread was called 10 times\n"
     ]
    }
   ],
   "source": [
    "thread = threading.Thread(target=sample, args=('thread', 10))\n",
    "thread.start()\n",
    "sample('cell-2', 5)"
   ]
  },
  {
   "cell_type": "code",
   "execution_count": 32,
   "metadata": {},
   "outputs": [],
   "source": [
    "def sample(text):\n",
    "    idx = 1000\n",
    "    while idx:\n",
    "        idx -= 1\n",
    "    print(f'{text} done')"
   ]
  },
  {
   "cell_type": "code",
   "execution_count": 33,
   "metadata": {},
   "outputs": [
    {
     "name": "stdout",
     "output_type": "stream",
     "text": [
      "thread done\n"
     ]
    }
   ],
   "source": [
    "process = multiprocessing.Process(target=sample, args={'proccess',})\n",
    "process.start()\n",
    "\n",
    "thread = threading.Thread(target=sample, args={'thread',})\n",
    "thread.start()"
   ]
  }
 ],
 "metadata": {
  "kernelspec": {
   "display_name": "Python 3",
   "language": "python",
   "name": "python3"
  },
  "language_info": {
   "codemirror_mode": {
    "name": "ipython",
    "version": 3
   },
   "file_extension": ".py",
   "mimetype": "text/x-python",
   "name": "python",
   "nbconvert_exporter": "python",
   "pygments_lexer": "ipython3",
   "version": "3.7.0"
  }
 },
 "nbformat": 4,
 "nbformat_minor": 2
}
